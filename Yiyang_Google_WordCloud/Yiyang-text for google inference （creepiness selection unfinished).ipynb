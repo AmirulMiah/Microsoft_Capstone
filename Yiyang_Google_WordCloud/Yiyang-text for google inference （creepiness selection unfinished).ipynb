{
 "cells": [
  {
   "cell_type": "code",
   "execution_count": 1,
   "id": "70a1af53",
   "metadata": {},
   "outputs": [],
   "source": [
    "import re\n",
    "import pandas as pd\n",
    "import numpy as np\n",
    "import seaborn as sns\n",
    "import matplotlib.pyplot as plt\n",
    "import csv\n",
    "import random"
   ]
  },
  {
   "cell_type": "code",
   "execution_count": 2,
   "id": "1ef074f7",
   "metadata": {},
   "outputs": [],
   "source": [
    "def extract_inference(html_file):\n",
    "    #extract_tags\n",
    "    file = open(html_file, \"r\")\n",
    "    ad=file.read()\n",
    "    regex='<div class=\"c7O9k\">((\\w| |-|:)+)'\n",
    "    a=re.findall(regex,ad)\n",
    "    #turn into list\n",
    "    lst=[]\n",
    "    num=0\n",
    "    for ele in a:\n",
    "        lst.append([ele[0]][0].strip())\n",
    "    #extract specific tags we want\n",
    "    age=''\n",
    "    gender=''\n",
    "    music=[]\n",
    "    income=''\n",
    "    marrial_status=''\n",
    "    parental_status=''\n",
    "    for i in lst:\n",
    "        if i.startswith('Household Income: '):\n",
    "            income=i.split(': ')[1].lower()\n",
    "        if i.startswith('Marital Status: '):\n",
    "            marrial_status=i.split(': ')[1].lower()\n",
    "        if i.startswith('Parental Status: '):\n",
    "            parental_status=i.split(': ')[1].lower()\n",
    "        if i.endswith('Music'):\n",
    "             music.append(i)\n",
    "        if i.endswith('years old'):\n",
    "            age=i.lower()\n",
    "        if i=='Male'or i=='Female':\n",
    "            gender=i.lower()\n",
    "    for ele in music:\n",
    "        if ele=='Music':\n",
    "            music.remove('Music')\n",
    "    games=[i for i in lst if i.endswith('Games')]\n",
    "    for ele in music:\n",
    "        if ele=='Games':\n",
    "            games.remove('Games')\n",
    "    lst_2=[]\n",
    "    for ele in lst[2:]:\n",
    "        if ':' not in ele:\n",
    "            if ele not in games and ele not in music and ele!='Music' and ele!='Game':\n",
    "                lst_2.append(ele.lower())\n",
    "    lst_habit=[]\n",
    "    num_list=[]\n",
    "    for num in range(7):    \n",
    "        ind=random.randrange(len(lst_2))\n",
    "        if ind in num_list:\n",
    "            num=num-1\n",
    "        else:\n",
    "            num_list.append(ind)\n",
    "            lst_habit.append(lst_2[ind].lower())\n",
    "\n",
    "    #write basic information\n",
    "    if income!=None:\n",
    "        if age!='' and gender!='':\n",
    "            final_str=\"According to the data Google extract from your activties, Google infers that you are a \" +age+' '+gender+' with a '+income+' family income. '\n",
    "        elif age=='' and gender!='':\n",
    "            final_str=\"According to the data Google extract from your activties, Google infers that you are a \"+gender+' with a '+income+' family income. '\n",
    "        elif age!='' and gender=='':\n",
    "            final_str=\"According to the data Google extract from your activties, Google infers that you are \" +age+' with a '+income+' family income. '\n",
    "        elif age=='' and gender=='':\n",
    "            final_str=\"According to the data Google extract from your activties, Google infers that you have a \" +income+' family income. '\n",
    "    elif income==None:\n",
    "        if age!='' and gender!='':\n",
    "            final_str=\"According to the data Google extract from your activties, Google infers that you are a \" +age+' '+gender+'. '\n",
    "        elif age!='' and gender=='':\n",
    "            final_str=\"According to the data Google extract from your activties, Google infers that you are \" +age+'. '\n",
    "        elif age=='' and gender!='':\n",
    "            final_str=\"According to the data Google extract from your activties, Google infers that you are a \"+gender+'. '\n",
    "        else:\n",
    "            final_str=''\n",
    "    if parental_status!='' and marrial_status!='':\n",
    "        final_str=final_str+ 'Google also infers that you are '+marrial_status+' and '+parental_status+'. '\n",
    "    if parental_status=='' and marrial_status!='':\n",
    "        final_str=final_str+ 'Google also infers that you are '+marrial_status+'. '\n",
    "    if parental_status!='' and marrial_status=='':\n",
    "        final_str=final_str+ 'Google also infers that you are '+parental_status+'. '\n",
    "    #write habits\n",
    "    if len(lst_habit)>4:\n",
    "        final_str2='From your activties and searches on Google, Google infers that you may be interested in '+lst_habit[0]+' and '+ lst_habit[1]+'. '\n",
    "        final_str2+='Google also noticed that you are interested in '+lst_habit[2]+', '+ lst_habit[3]+' and '+lst_habit[4]+'. '\n",
    "    elif len(lst_habit)==4:\n",
    "        final_str2='From your activties and searches on Google, Google infers that you may be interested in '+lst_habit[0]+' and '+ lst_habit[1]+'. '\n",
    "        final_str2+='Google also noticed that you are interested in '+lst_habit[2]+' and '+lst_habit[3]+'. '\n",
    "    elif len(lst_habit)==3:\n",
    "        final_str2='From your activties and searches on Google, Google infers that you may be interested in '+lst_habit[0]+', '+ lst_habit[1]+' and '+ lst_habit[2]+'. '\n",
    "    elif len(lst_habit)==2:\n",
    "        final_str2='From your activties and searches on Google, Google infers that you may be interested in '+lst_habit[0]+' and '+ lst_habit[1]+'. '\n",
    "    elif len(lst_habit)==1:\n",
    "        final_str2='From your activties and searches on Google, Google notices that you may be interested in '+lst_habit[0]+'. '\n",
    "    elif len(lst_habit)==0:\n",
    "        final_str2='Google knows nothing about your habits because of your limited activty on Google. '\n",
    "    #write catgorical habits\n",
    "    if len(music)>1:\n",
    "        final_str2+='Among different types of musics, you enjoyed listening to'\n",
    "        for ele in music:\n",
    "                if ele!=music[-1]:\n",
    "                    final_str2=final_str2+' '+ele.lower()+','\n",
    "                else:\n",
    "                    final_str2=final_str2+' and '+ele.lower()+'. '\n",
    "    if len(games)>1:\n",
    "        final_str2+='You also enjoy playing'\n",
    "        for ele in games:\n",
    "            if ele!=games[-1]:\n",
    "                final_str2=final_str2+' '+ele.lower()+','\n",
    "            else:\n",
    "                final_str2=final_str2+' and '+ele.lower()+'.'\n",
    "    return final_str+final_str2"
   ]
  },
  {
   "cell_type": "code",
   "execution_count": 3,
   "id": "58a1974b",
   "metadata": {},
   "outputs": [
    {
     "data": {
      "text/plain": [
       "'According to the data Google extract from your activties, Google infers that you are a 18-34 years old male with a upper middle family income. Google also infers that you are single and not a parent. From your activties and searches on Google, Google infers that you may be interested in books and social networks. Google also noticed that you are interested in gourmet, tv sci-fi and shopping. Among different types of musics, you enjoyed listening to classical music, pop music, and world music. You also enjoy playing adventure games, roleplaying games, and strategy games.'"
      ]
     },
     "execution_count": 3,
     "metadata": {},
     "output_type": "execute_result"
    }
   ],
   "source": [
    "extract_inference(\"Ad Settings.html\")"
   ]
  },
  {
   "cell_type": "code",
   "execution_count": 4,
   "id": "2444864d",
   "metadata": {},
   "outputs": [
    {
     "data": {
      "text/plain": [
       "'According to the data Google extract from your activties, Google infers that you are a 18-24 years old male with a lower middle family income. Google also infers that you are single and not a parent. From your activties and searches on Google, Google infers that you may be interested in network security and tv family-oriented shows. Google also noticed that you are interested in clerical, performing arts and fitness. Among different types of musics, you enjoyed listening to classical music, pop music, and world music. You also enjoy playing adventure games, massively multiplayer games, roleplaying games, and strategy games.'"
      ]
     },
     "execution_count": 4,
     "metadata": {},
     "output_type": "execute_result"
    }
   ],
   "source": [
    "extract_inference(\"amirul_ads.html\")"
   ]
  },
  {
   "cell_type": "code",
   "execution_count": 5,
   "id": "994c4a80",
   "metadata": {},
   "outputs": [
    {
     "data": {
      "text/plain": [
       "'According to the data Google extract from your activties, Google infers that you have a upper middle family income. Google also infers that you are not a parent. From your activties and searches on Google, Google infers that you may be interested in moving, computer hardware and home improvement. '"
      ]
     },
     "execution_count": 5,
     "metadata": {},
     "output_type": "execute_result"
    }
   ],
   "source": [
    "extract_inference(\"oliver_ads.html\")"
   ]
  },
  {
   "cell_type": "code",
   "execution_count": 6,
   "id": "e643211d",
   "metadata": {},
   "outputs": [
    {
     "data": {
      "text/plain": [
       "'According to the data Google extract from your activties, Google infers that you are a 18-44 years old female with a high family income. Google also infers that you are married and not a parent. From your activties and searches on Google, Google infers that you may be interested in fashion and movies. Google also noticed that you are interested in politics, greeting cards and restaurants. Among different types of musics, you enjoyed listening to classical music, and pop music. '"
      ]
     },
     "execution_count": 6,
     "metadata": {},
     "output_type": "execute_result"
    }
   ],
   "source": [
    "extract_inference(\"nia_ads.html\")"
   ]
  },
  {
   "cell_type": "code",
   "execution_count": 7,
   "id": "ed67a41c",
   "metadata": {},
   "outputs": [
    {
     "data": {
      "text/plain": [
       "'According to the data Google extract from your activties, Google infers that you are a 35-44 years old male with a upper middle family income. Google also infers that you are single and not a parent. From your activties and searches on Google, Google infers that you may be interested in ford and back market. Google also noticed that you are interested in it, american football equipment and parenting. Among different types of musics, you enjoyed listening to pop music, rock music, and world music. You also enjoy playing adventure games, casual games, family-oriented games, massively multiplayer games, roleplaying games, shooter games, sports games, and strategy games.'"
      ]
     },
     "execution_count": 7,
     "metadata": {},
     "output_type": "execute_result"
    }
   ],
   "source": [
    "extract_inference(\"tanbirul_ads.html\")"
   ]
  },
  {
   "cell_type": "code",
   "execution_count": null,
   "id": "2970fa4c",
   "metadata": {},
   "outputs": [],
   "source": []
  }
 ],
 "metadata": {
  "kernelspec": {
   "display_name": "Python 3",
   "language": "python",
   "name": "python3"
  },
  "language_info": {
   "codemirror_mode": {
    "name": "ipython",
    "version": 3
   },
   "file_extension": ".py",
   "mimetype": "text/x-python",
   "name": "python",
   "nbconvert_exporter": "python",
   "pygments_lexer": "ipython3",
   "version": "3.8.8"
  }
 },
 "nbformat": 4,
 "nbformat_minor": 5
}
