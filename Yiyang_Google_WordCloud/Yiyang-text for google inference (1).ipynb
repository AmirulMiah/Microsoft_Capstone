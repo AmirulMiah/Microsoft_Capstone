{
 "cells": [
  {
   "cell_type": "code",
   "execution_count": null,
   "id": "74c2d630",
   "metadata": {},
   "outputs": [],
   "source": [
    "#Hi, Oliver. Pls just input the html to the second function 'extract_inference.' The first function is just a preparation part of the second function"
   ]
  },
  {
   "cell_type": "code",
   "execution_count": 571,
   "id": "70a1af53",
   "metadata": {},
   "outputs": [],
   "source": [
    "import re\n",
    "import pandas as pd\n",
    "import numpy as np\n",
    "import seaborn as sns\n",
    "import matplotlib.pyplot as plt\n",
    "import csv\n",
    "import random\n",
    "from pytrends.request import TrendReq\n",
    "\n",
    "pytrends = TrendReq(hl='en-US', tz=360)"
   ]
  },
  {
   "cell_type": "code",
   "execution_count": 572,
   "id": "2836d1a2",
   "metadata": {},
   "outputs": [],
   "source": [
    "f=pd.read_csv('word_frequency.csv')"
   ]
  },
  {
   "cell_type": "code",
   "execution_count": 575,
   "id": "0851c2f0",
   "metadata": {},
   "outputs": [],
   "source": [
    "def update_frequcny(html_file):\n",
    "    kwords=[]\n",
    "    file = open(html_file, \"r\")\n",
    "    ad=file.read()\n",
    "    regex='<div class=\"c7O9k\">((\\w| |-|:)+)'\n",
    "    a=re.findall(regex,ad)\n",
    "    #turn into list\n",
    "    lst=[]\n",
    "    lst2=[]\n",
    "    num=0\n",
    "    for ele in a:\n",
    "        lst.append([ele[0]][0].strip())\n",
    "    #remove basic information\n",
    "    substring = ':'\n",
    "    for ele in lst:\n",
    "        if ele.startswith('Male')==False and ele.startswith('Female')==False and ele.endswith('years old')==False and (substring in ele)==False:\n",
    "            lst2.append(ele)\n",
    "    lst_first_appear=[]\n",
    "    #find out word appearing for the first time\n",
    "    for ele in lst2:\n",
    "        if ele not in list(f['word']):\n",
    "            lst_first_appear.append(ele)\n",
    "    lst3=lst_first_appear\n",
    "    #Google trend key word list prep\n",
    "    if len(lst3)>=5:\n",
    "        for num in range(5):\n",
    "            word=random.choice(lst3)\n",
    "            lst3.remove(word)\n",
    "    else:\n",
    "        kwords=lst_first_appear\n",
    "    kwords.append('Used Vehicles')\n",
    "    #Google trend api\n",
    "    dict_google=dict(pytrends.get_historical_interest(kwords, year_start=2022, month_start=3, day_start=6, hour_start=0, year_end=2022, month_end=3, day_end=8).iloc[-1])\n",
    "    #normalize the value\n",
    "    del dict_google['isPartial']\n",
    "    if dict_google['Used Vehicles']==0:\n",
    "        dict_google['Used Vehicles']=1\n",
    "    for key in dict_google.keys():\n",
    "        num=int(dict_google[key])*67/dict_google['Used Vehicles']\n",
    "        dict_google[key]=num\n",
    "    #Value for existed tags\n",
    "    existed_dict={}\n",
    "    for ele in lst2:\n",
    "        if ele in list(f['word']):\n",
    "            existed_dict[ele]=list(f.loc[f['word'] == ele]['Google_Trend _Frequency'])[0]\n",
    "    if len(dict_google)!=0:\n",
    "        for key in dict_google.keys():\n",
    "            existed_dict[key]=dict_google[key]\n",
    "    return existed_dict"
   ]
  },
  {
   "cell_type": "code",
   "execution_count": 576,
   "id": "7aba3b1f",
   "metadata": {},
   "outputs": [
    {
     "name": "stdout",
     "output_type": "stream",
     "text": [
      "The request failed: Google returned a response with code 400.\n"
     ]
    },
    {
     "data": {
      "text/plain": [
       "{'Apparel': 670.0,\n",
       " 'Autos': 11136.88889,\n",
       " 'Beauty': 3082.0,\n",
       " 'Books': 10227.7551,\n",
       " 'Business News': 118.5384615,\n",
       " 'Business Services': 237.5454545,\n",
       " 'Camera': 4020.0,\n",
       " 'Career Resources': 8.933333333,\n",
       " 'Celebrities': 964.8,\n",
       " 'Classical Music': 168.5806452,\n",
       " 'Combat Sports': 2.68,\n",
       " 'Computers': 3953.0,\n",
       " 'Dogs': 19932.5,\n",
       " 'Fashion': 2345.0,\n",
       " 'Flowers': 3900.684932,\n",
       " 'Food': 24407.14286,\n",
       " 'Greeting Cards': 57.42857143,\n",
       " 'Home Improvement': 614.1666667,\n",
       " 'Local News': 475.0909091,\n",
       " 'Mass Merchants': 0.2,\n",
       " 'Movies': 27805.0,\n",
       " 'Moving': 2881.0,\n",
       " 'Music': 10440.83333,\n",
       " 'Performing Arts': 137.5,\n",
       " 'Pets': 5762.0,\n",
       " 'Photographic': 30.0,\n",
       " 'Politics': 552.75,\n",
       " 'Pop Music': 79.88461538,\n",
       " 'Restaurants': 31512.33333,\n",
       " 'Romance Films': 1.810810811,\n",
       " 'Shopping': 2345.0,\n",
       " 'Sports': 5360.0,\n",
       " 'Travel': 5695.0,\n",
       " 'TV Dramas': 35.0,\n",
       " 'TV Family-Oriented Shows': 0.022727273,\n",
       " 'TV Game Shows': 14.48648649,\n",
       " 'TV Reality Shows': 21.72972973,\n",
       " 'TV Talk Shows': 3.621621622,\n",
       " 'Urban Transit': 1.0,\n",
       " 'Visual Art': 23.0,\n",
       " 'Windows OS': 45.27027027,\n",
       " 'Used Vehicles': 67.0}"
      ]
     },
     "execution_count": 576,
     "metadata": {},
     "output_type": "execute_result"
    }
   ],
   "source": [
    "update_frequcny('nia_ads.html')"
   ]
  },
  {
   "cell_type": "code",
   "execution_count": 545,
   "id": "d3b9f362",
   "metadata": {},
   "outputs": [],
   "source": [
    "def extract_inference(html_file):\n",
    "    #extract_tags\n",
    "    file = open(html_file, \"r\")\n",
    "    ad=file.read()\n",
    "    regex='<div class=\"c7O9k\">((\\w| |-|:)+)'\n",
    "    a=re.findall(regex,ad)\n",
    "    #turn into list\n",
    "    lst=[]\n",
    "    num=0\n",
    "    for ele in a:\n",
    "        lst.append([ele[0]][0].strip())\n",
    "    #frequency_dict\n",
    "    frq_dic=update_frequcny(html_file)\n",
    "    #extract specific tags we want\n",
    "    age=''\n",
    "    gender=''\n",
    "    music=[]\n",
    "    income=''\n",
    "    marrial_status=''\n",
    "    parental_status=''\n",
    "    for i in lst:\n",
    "        if i.startswith('Household Income: '):\n",
    "            income=i.split(': ')[1].lower()\n",
    "        if i.startswith('Marital Status: '):\n",
    "            marrial_status=i.split(': ')[1].lower()\n",
    "        if i.startswith('Parental Status: '):\n",
    "            parental_status=i.split(': ')[1].lower()\n",
    "        if i.endswith('Music'):\n",
    "             music.append(i)\n",
    "        if i.endswith('years old'):\n",
    "            age=i.lower()\n",
    "        if i=='Male'or i=='Female':\n",
    "            gender=i.lower()\n",
    "    for ele in music:\n",
    "        if ele=='Music':\n",
    "            music.remove('Music')\n",
    "    games=[i for i in lst if i.endswith('Games')]\n",
    "    for ele in music:\n",
    "        if ele=='Games':\n",
    "            games.remove('Games')\n",
    "    lst_2=[]\n",
    "    for ele in lst[2:]:\n",
    "        if ':' not in ele:\n",
    "            if ele not in games and ele not in music and ele!='Music' and ele!='Game':\n",
    "                lst_2.append(ele.lower())\n",
    "    #lst_habit=[]\n",
    "    #num_list=[]\n",
    "    #for num in range(7):    \n",
    "    #    ind=random.randrange(len(lst_2))\n",
    "    #    if ind in num_list:\n",
    "    #        num=num-1\n",
    "    #    else:\n",
    "    #        num_list.append(ind)\n",
    "    #        lst_habit.append(lst_2[ind].lower())\n",
    "    lst_habit=[]\n",
    "    if len(frq_dic)>=5:\n",
    "        for num in range(5):\n",
    "            a=min(frq_dic, key=frq_dic.get)\n",
    "            b=a.lower()\n",
    "            lst_habit.append(b)\n",
    "            del frq_dic[a]\n",
    "    else:\n",
    "        for num in range(len(frq_dic)):\n",
    "            a=min(frq_dic, key=frq_dic.get)\n",
    "            b=a.lower()\n",
    "            lst_habit.append(b)\n",
    "            del frq_dic[a]\n",
    "    #write basic information\n",
    "    if income!=None:\n",
    "        if age!='' and gender!='':\n",
    "            final_str=\"According to the data Google extract from your activties, Google infers that you are a \" +age+' '+gender+' with a '+income+' family income. '\n",
    "        elif age=='' and gender!='':\n",
    "            final_str=\"According to the data Google extract from your activties, Google infers that you are a \"+gender+' with a '+income+' family income. '\n",
    "        elif age!='' and gender=='':\n",
    "            final_str=\"According to the data Google extract from your activties, Google infers that you are \" +age+' with a '+income+' family income. '\n",
    "        elif age=='' and gender=='':\n",
    "            final_str=\"According to the data Google extract from your activties, Google infers that you have a \" +income+' family income. '\n",
    "    elif income==None:\n",
    "        if age!='' and gender!='':\n",
    "            final_str=\"According to the data Google extract from your activties, Google infers that you are a \" +age+' '+gender+'. '\n",
    "        elif age!='' and gender=='':\n",
    "            final_str=\"According to the data Google extract from your activties, Google infers that you are \" +age+'. '\n",
    "        elif age=='' and gender!='':\n",
    "            final_str=\"According to the data Google extract from your activties, Google infers that you are a \"+gender+'. '\n",
    "        else:\n",
    "            final_str=''\n",
    "    if parental_status!='' and marrial_status!='':\n",
    "        final_str=final_str+ 'Google also infers that you are '+marrial_status+' and '+parental_status+'. '\n",
    "    if parental_status=='' and marrial_status!='':\n",
    "        final_str=final_str+ 'Google also infers that you are '+marrial_status+'. '\n",
    "    if parental_status!='' and marrial_status=='':\n",
    "        final_str=final_str+ 'Google also infers that you are '+parental_status+'. '\n",
    "    #write habits\n",
    "    if len(lst_habit)>4:\n",
    "        final_str2='From your activties and searches on Google, Google infers that you may be interested in '+lst_habit[0]+' and '+ lst_habit[1]+'. '\n",
    "        final_str2+='Google also noticed that you are interested in '+lst_habit[2]+', '+ lst_habit[3]+' and '+lst_habit[4]+'. '\n",
    "    elif len(lst_habit)==4:\n",
    "        final_str2='From your activties and searches on Google, Google infers that you may be interested in '+lst_habit[0]+' and '+ lst_habit[1]+'. '\n",
    "        final_str2+='Google also noticed that you are interested in '+lst_habit[2]+' and '+lst_habit[3]+'. '\n",
    "    elif len(lst_habit)==3:\n",
    "        final_str2='From your activties and searches on Google, Google infers that you may be interested in '+lst_habit[0]+', '+ lst_habit[1]+' and '+ lst_habit[2]+'. '\n",
    "    elif len(lst_habit)==2:\n",
    "        final_str2='From your activties and searches on Google, Google infers that you may be interested in '+lst_habit[0]+' and '+ lst_habit[1]+'. '\n",
    "    elif len(lst_habit)==1:\n",
    "        final_str2='From your activties and searches on Google, Google notices that you may be interested in '+lst_habit[0]+'. '\n",
    "    elif len(lst_habit)==0:\n",
    "        final_str2='Google knows nothing about your habits because of your limited activty on Google. '\n",
    "    #write catgorical habits\n",
    "    if len(music)>1:\n",
    "        final_str2+='Among different types of musics, you enjoyed listening to'\n",
    "        for ele in music:\n",
    "                if ele!=music[-1]:\n",
    "                    final_str2=final_str2+' '+ele.lower()+','\n",
    "                else:\n",
    "                    final_str2=final_str2+' and '+ele.lower()+'. '\n",
    "    if len(games)>1:\n",
    "        final_str2+='You also enjoy playing'\n",
    "        for ele in games:\n",
    "            if ele!=games[-1]:\n",
    "                final_str2=final_str2+' '+ele.lower()+','\n",
    "            else:\n",
    "                final_str2=final_str2+' and '+ele.lower()+'.'\n",
    "    return final_str+final_str2"
   ]
  },
  {
   "cell_type": "code",
   "execution_count": 580,
   "id": "ad28adec",
   "metadata": {},
   "outputs": [
    {
     "name": "stdout",
     "output_type": "stream",
     "text": [
      "The request failed: Google returned a response with code 400.\n"
     ]
    },
    {
     "data": {
      "text/plain": [
       "'According to the data Google extract from your activties, Google infers that you are a 18-34 years old male with a upper middle family income. Google also infers that you are single and not a parent. From your activties and searches on Google, Google infers that you may be interested in mass merchants and roleplaying games. Google also noticed that you are interested in urban transit, tv sci-fi and combat sports. Among different types of musics, you enjoyed listening to classical music, pop music, and world music. You also enjoy playing adventure games, roleplaying games, and strategy games.'"
      ]
     },
     "execution_count": 580,
     "metadata": {},
     "output_type": "execute_result"
    }
   ],
   "source": [
    "extract_inference(\"Ad Settings.html\")"
   ]
  },
  {
   "cell_type": "code",
   "execution_count": 581,
   "id": "1e0f3a1c",
   "metadata": {},
   "outputs": [
    {
     "name": "stdout",
     "output_type": "stream",
     "text": [
      "The request failed: Google returned a response with code 400.\n"
     ]
    },
    {
     "data": {
      "text/plain": [
       "'According to the data Google extract from your activties, Google infers that you are a 18-24 years old male with a lower middle family income. Google also infers that you are single and not a parent. From your activties and searches on Google, Google infers that you may be interested in tv family-oriented shows and shopping portals. Google also noticed that you are interested in mass merchants, event ticket sales and multimedia software. Among different types of musics, you enjoyed listening to classical music, pop music, and world music. You also enjoy playing adventure games, massively multiplayer games, roleplaying games, and strategy games.'"
      ]
     },
     "execution_count": 581,
     "metadata": {},
     "output_type": "execute_result"
    }
   ],
   "source": [
    "extract_inference(\"amirul_ads.html\")"
   ]
  },
  {
   "cell_type": "code",
   "execution_count": 582,
   "id": "9d1fbaba",
   "metadata": {},
   "outputs": [
    {
     "name": "stdout",
     "output_type": "stream",
     "text": [
      "The request failed: Google returned a response with code 400.\n"
     ]
    },
    {
     "data": {
      "text/plain": [
       "'According to the data Google extract from your activties, Google infers that you have a upper middle family income. Google also infers that you are not a parent. From your activties and searches on Google, Google infers that you may be interested in urban transit and business formation. Google also noticed that you are interested in career resources, computer hardware and used vehicles. '"
      ]
     },
     "execution_count": 582,
     "metadata": {},
     "output_type": "execute_result"
    }
   ],
   "source": [
    "extract_inference(\"oliver_ads.html\")"
   ]
  },
  {
   "cell_type": "code",
   "execution_count": 583,
   "id": "1983ce1c",
   "metadata": {},
   "outputs": [
    {
     "name": "stdout",
     "output_type": "stream",
     "text": [
      "The request failed: Google returned a response with code 400.\n"
     ]
    },
    {
     "data": {
      "text/plain": [
       "'According to the data Google extract from your activties, Google infers that you are a 18-44 years old female with a high family income. Google also infers that you are married and not a parent. From your activties and searches on Google, Google infers that you may be interested in tv family-oriented shows and mass merchants. Google also noticed that you are interested in urban transit, romance films and combat sports. Among different types of musics, you enjoyed listening to classical music, and pop music. '"
      ]
     },
     "execution_count": 583,
     "metadata": {},
     "output_type": "execute_result"
    }
   ],
   "source": [
    "extract_inference(\"nia_ads.html\")"
   ]
  },
  {
   "cell_type": "code",
   "execution_count": 584,
   "id": "70d5990a",
   "metadata": {},
   "outputs": [
    {
     "name": "stdout",
     "output_type": "stream",
     "text": [
      "The request failed: Google returned a response with code 400.\n"
     ]
    },
    {
     "data": {
      "text/plain": [
       "'According to the data Google extract from your activties, Google infers that you are a 35-44 years old male with a upper middle family income. Google also infers that you are single and not a parent. From your activties and searches on Google, Google infers that you may be interested in mass merchants and event ticket sales. Google also noticed that you are interested in price comparisons, vehicle shopping and roleplaying games. Among different types of musics, you enjoyed listening to pop music, rock music, and world music. You also enjoy playing adventure games, casual games, family-oriented games, massively multiplayer games, roleplaying games, shooter games, sports games, and strategy games.'"
      ]
     },
     "execution_count": 584,
     "metadata": {},
     "output_type": "execute_result"
    }
   ],
   "source": [
    "extract_inference(\"tanbirul_ads.html\")"
   ]
  },
  {
   "cell_type": "code",
   "execution_count": null,
   "id": "02f876c9",
   "metadata": {},
   "outputs": [],
   "source": []
  },
  {
   "cell_type": "code",
   "execution_count": null,
   "id": "3dc2e8cd",
   "metadata": {},
   "outputs": [],
   "source": []
  }
 ],
 "metadata": {
  "kernelspec": {
   "display_name": "Python 3",
   "language": "python",
   "name": "python3"
  },
  "language_info": {
   "codemirror_mode": {
    "name": "ipython",
    "version": 3
   },
   "file_extension": ".py",
   "mimetype": "text/x-python",
   "name": "python",
   "nbconvert_exporter": "python",
   "pygments_lexer": "ipython3",
   "version": "3.8.8"
  }
 },
 "nbformat": 4,
 "nbformat_minor": 5
}
