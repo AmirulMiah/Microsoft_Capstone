{
 "cells": [
  {
   "cell_type": "markdown",
   "id": "2ec3d475",
   "metadata": {
    "extensions": {
     "jupyter_dashboards": {
      "version": 1,
      "views": {
       "grid_default": {
        "col": 0,
        "height": 8,
        "hidden": false,
        "row": 2,
        "width": 12
       },
       "report_default": {
        "col": 0,
        "height": 8,
        "hidden": false,
        "row": 2,
        "width": 8
       }
      }
     }
    },
    "tags": []
   },
   "source": [
    "# Your Instagram Data Dashboard\n",
    "Here is an overview of information about you that we received from your Instagram data. \n"
   ]
  },
  {
   "cell_type": "code",
   "execution_count": 19,
   "id": "bae5de66",
   "metadata": {
    "extensions": {
     "jupyter_dashboards": {
      "version": 1,
      "views": {
       "grid_default": {
        "hidden": true
       },
       "report_default": {
        "hidden": true
       }
      }
     }
    },
    "jupyter": {
     "outputs_hidden": true
    }
   },
   "outputs": [],
   "source": [
    "import os \n",
    "import json\n",
    "import numpy as np\n",
    "import seaborn as sns\n",
    "import matplotlib.pyplot as plt\n",
    "%matplotlib inline\n",
    "from wordcloud import WordCloud\n",
    "from collections import Counter\n",
    "import warnings \n",
    "warnings.filterwarnings('ignore')"
   ]
  },
  {
   "cell_type": "markdown",
   "id": "f338483b",
   "metadata": {
    "extensions": {
     "jupyter_dashboards": {
      "version": 1,
      "views": {
       "grid_default": {
        "col": 5,
        "height": 8,
        "hidden": false,
        "row": 10,
        "width": 7
       },
       "report_default": {
        "col": 0,
        "height": 5,
        "hidden": false,
        "row": 48,
        "width": 8
       }
      }
     }
    },
    "tags": []
   },
   "source": [
    "The graph below shows your top five favorite instagram accounts. Your 'favorite' accounts are the accounts with the highest number of posts you have liked since your account has been active. "
   ]
  },
  {
   "cell_type": "code",
   "execution_count": 20,
   "id": "c8672aa0",
   "metadata": {
    "extensions": {
     "jupyter_dashboards": {
      "version": 1,
      "views": {
       "grid_default": {
        "col": 5,
        "height": 21,
        "hidden": false,
        "row": 18,
        "width": 7
       },
       "report_default": {
        "col": 1,
        "height": 21,
        "hidden": false,
        "row": 27,
        "width": 6
       }
      }
     }
    },
    "jupyter": {
     "outputs_hidden": true
    },
    "tags": []
   },
   "outputs": [
    {
     "data": {
      "image/png": "[encoded data removed]",
      "text/plain": [
       "<Figure size 432x288 with 1 Axes>"
      ]
     },
     "metadata": {
      "needs_background": "light"
     },
     "output_type": "display_data"
    }
   ],
   "source": [
    "#Read in liked_posts.json file\n",
    "with open('./data/nia_ig_data/likes/liked_posts.json') as like_data:\n",
    "    liked_posts_json = json.load(like_data)\n",
    "\n",
    "#Parse through the liked_posts.json file to take count of all of the posts I've liked and which account they belong to\n",
    "liked_posts = []\n",
    "for like in liked_posts_json['likes_media_likes']:\n",
    "    liked_posts.append((like['title']))\n",
    "top_liked_accounts = (Counter(liked_posts).most_common(5))\n",
    "account_name = list(zip(*top_liked_accounts))[0]\n",
    "num_liked_posts = list(zip(*top_liked_accounts))[1]\n",
    "\n",
    "#Create a barplot to display my top 5 favorite accounts \n",
    "x_pos = np.arange(len(account_name))\n",
    "plt.bar(x_pos, num_liked_posts,align='center',color='#8134AF')\n",
    "plt.rcParams.update({'font.size': 10})\n",
    "plt.xticks(x_pos, account_name) \n",
    "plt.xticks(rotation=90)\n",
    "plt.title(\"Favorite Instagram Accounts\")\n",
    "plt.xlabel('Account Name')\n",
    "plt.ylabel('Number of Liked Posts')\n",
    "plt.show()"
   ]
  },
  {
   "cell_type": "code",
   "execution_count": 21,
   "id": "3258e8c7",
   "metadata": {
    "extensions": {
     "jupyter_dashboards": {
      "version": 1,
      "views": {
       "grid_default": {
        "hidden": true
       },
       "report_default": {
        "hidden": true
       }
      }
     }
    },
    "jupyter": {
     "outputs_hidden": true
    }
   },
   "outputs": [],
   "source": [
    "#The following is a word cloud showing the inferences instagram has made about me from collected ad data.\n",
    "#Read in the ads_interests.json file\n",
    "#with open('./data/nia_ig_data/information_about_you/ads_interests.json') as ads_interests_data:\n",
    "    #ads_interests_json = json.load(ads_interests_data)\n",
    "\n",
    "#Parse through the ads_interests.json file to put all of my inferrred interests based off instagram's ad tracking into a list\n",
    "#ads_interests = []\n",
    "#for interest in ads_interests_json['inferred_data_ig_interest']:\n",
    "    #ads_interests.append((interest['string_map_data']['Interest']['value']))\n",
    "\n",
    "#interests = []\n",
    "#for i in ads_interests:\n",
    "    #if i not in interests:\n",
    "        #interests.append(i)\n",
    "        \n",
    "#Create word cloud visualization based off common frequency of interests \n",
    "#word_cloud_dict=Counter(interests)\n",
    "#wordcloud = WordCloud(width = 1000, height = 500).generate_from_frequencies(word_cloud_dict)\n",
    "#plt.figure(figsize=(15,8))\n",
    "#plt.imshow(wordcloud)\n",
    "#plt.axis(\"off\")"
   ]
  },
  {
   "cell_type": "code",
   "execution_count": 22,
   "id": "e356c103",
   "metadata": {
    "extensions": {
     "jupyter_dashboards": {
      "version": 1,
      "views": {
       "grid_default": {
        "hidden": true
       },
       "report_default": {
        "hidden": true
       }
      }
     }
    },
    "jupyter": {
     "outputs_hidden": true
    }
   },
   "outputs": [],
   "source": [
    "#Personal Information =(Username, Email, Phone Number, Gender)\n",
    "with open('./data/nia_ig_data/account_information/personal_information.json') as ads_interests_data:\n",
    "    personal_information_json = json.load(ads_interests_data)\n",
    "    \n",
    "user_name = personal_information_json['profile_user'][0]['string_map_data']['Username']['value']\n",
    "phone_number = personal_information_json['profile_user'][0]['string_map_data']['Phone Number']['value']\n",
    "email = personal_information_json['profile_user'][0]['string_map_data']['Email']['value']\n",
    "gender = personal_information_json['profile_user'][0]['string_map_data']['Gender']['value']\n"
   ]
  },
  {
   "cell_type": "code",
   "execution_count": 23,
   "id": "6908daa8",
   "metadata": {
    "extensions": {
     "jupyter_dashboards": {
      "version": 1,
      "views": {
       "grid_default": {
        "hidden": true
       },
       "report_default": {
        "hidden": true
       }
      }
     }
    },
    "jupyter": {
     "outputs_hidden": true
    }
   },
   "outputs": [],
   "source": [
    "#Primary Account Location\n",
    "with open('./data/nia_ig_data/information_about_you/account_based_in.json') as ads_interests_data:\n",
    "    account_based_json = json.load(ads_interests_data)\n",
    "primary_account_location = account_based_json['inferred_data_primary_location'][0]['string_map_data']['City Name']['value']"
   ]
  },
  {
   "cell_type": "code",
   "execution_count": 24,
   "id": "d9edbf4b",
   "metadata": {
    "extensions": {
     "jupyter_dashboards": {
      "version": 1,
      "views": {
       "grid_default": {
        "col": 0,
        "height": 13,
        "hidden": false,
        "row": 10,
        "width": 5
       },
       "report_default": {
        "col": 2,
        "height": 13,
        "hidden": false,
        "row": 10,
        "width": 4
       }
      }
     }
    },
    "tags": []
   },
   "outputs": [
    {
     "data": {
      "text/html": [
       "<style  type=\"text/css\" >\n",
       "#T_f381e_row0_col0,#T_f381e_row0_col1,#T_f381e_row1_col0,#T_f381e_row1_col1,#T_f381e_row2_col0,#T_f381e_row2_col1,#T_f381e_row3_col0,#T_f381e_row3_col1,#T_f381e_row4_col0,#T_f381e_row4_col1{\n",
       "            text-align:  left;\n",
       "        }</style><table id=\"T_f381e_\" ><thead>    <tr>        <th class=\"blank level0\" ></th>        <th class=\"col_heading level0 col0\" >Category</th>        <th class=\"col_heading level0 col1\" >Your Information</th>    </tr></thead><tbody>\n",
       "                <tr>\n",
       "                        <th id=\"T_f381e_level0_row0\" class=\"row_heading level0 row0\" >0</th>\n",
       "                        <td id=\"T_f381e_row0_col0\" class=\"data row0 col0\" >Username</td>\n",
       "                        <td id=\"T_f381e_row0_col1\" class=\"data row0 col1\" >nia.dinay</td>\n",
       "            </tr>\n",
       "            <tr>\n",
       "                        <th id=\"T_f381e_level0_row1\" class=\"row_heading level0 row1\" >1</th>\n",
       "                        <td id=\"T_f381e_row1_col0\" class=\"data row1 col0\" >Phone Number</td>\n",
       "                        <td id=\"T_f381e_row1_col1\" class=\"data row1 col1\" >+17082080999</td>\n",
       "            </tr>\n",
       "            <tr>\n",
       "                        <th id=\"T_f381e_level0_row2\" class=\"row_heading level0 row2\" >2</th>\n",
       "                        <td id=\"T_f381e_row2_col0\" class=\"data row2 col0\" >Email</td>\n",
       "                        <td id=\"T_f381e_row2_col1\" class=\"data row2 col1\" >nia_graygirl2@yahoo.com</td>\n",
       "            </tr>\n",
       "            <tr>\n",
       "                        <th id=\"T_f381e_level0_row3\" class=\"row_heading level0 row3\" >3</th>\n",
       "                        <td id=\"T_f381e_row3_col0\" class=\"data row3 col0\" >Gender</td>\n",
       "                        <td id=\"T_f381e_row3_col1\" class=\"data row3 col1\" >female</td>\n",
       "            </tr>\n",
       "            <tr>\n",
       "                        <th id=\"T_f381e_level0_row4\" class=\"row_heading level0 row4\" >4</th>\n",
       "                        <td id=\"T_f381e_row4_col0\" class=\"data row4 col0\" >Primary Account Location</td>\n",
       "                        <td id=\"T_f381e_row4_col1\" class=\"data row4 col1\" >Ann Arbor, Michigan</td>\n",
       "            </tr>\n",
       "    </tbody></table>"
      ],
      "text/plain": [
       "<pandas.io.formats.style.Styler at 0x7fb9cea670a0>"
      ]
     },
     "execution_count": 24,
     "metadata": {},
     "output_type": "execute_result"
    }
   ],
   "source": [
    "import pandas as pd\n",
    "data = {'Category':['Username', 'Phone Number', 'Email', 'Gender', 'Primary Account Location'],\n",
    "        'Your Information':[user_name, phone_number, email, gender, primary_account_location]}\n",
    "df = pd.DataFrame(data)\n",
    "df = df.style.set_properties(**{'text-align': 'left'})\n",
    "df"
   ]
  },
  {
   "cell_type": "code",
   "execution_count": 25,
   "id": "cfb38bad",
   "metadata": {
    "extensions": {
     "jupyter_dashboards": {
      "version": 1,
      "views": {
       "grid_default": {
        "hidden": true
       },
       "report_default": {
        "hidden": true
       }
      }
     }
    },
    "jupyter": {
     "outputs_hidden": true
    }
   },
   "outputs": [],
   "source": [
    "#Number of Advertisers Using Your Info\n",
    "with open('./data/nia_ig_data/ads_and_businesses/advertisers_using_your_activity_or_information.json') as ads_interests_data:\n",
    "    advertisers_using_json = json.load(ads_interests_data)\n",
    "    \n",
    "num_advertisers_using_data = len(advertisers_using_json['ig_custom_audiences_all_types'])"
   ]
  },
  {
   "cell_type": "code",
   "execution_count": 26,
   "id": "85ba435b",
   "metadata": {
    "extensions": {
     "jupyter_dashboards": {
      "version": 1,
      "views": {
       "grid_default": {
        "hidden": true
       },
       "report_default": {
        "hidden": true
       }
      }
     }
    },
    "jupyter": {
     "outputs_hidden": true
    },
    "tags": []
   },
   "outputs": [],
   "source": [
    "#Size of File\n",
    "import os\n",
    "\n",
    "def get_size(start_path = './data/nia_ig_data'):\n",
    "    total_size = 0\n",
    "    for dirpath, dirnames, filenames in os.walk(start_path):\n",
    "        for f in filenames:\n",
    "            fp = os.path.join(dirpath, f)\n",
    "            # skip if it is symbolic link\n",
    "            if not os.path.islink(fp):\n",
    "                total_size += os.path.getsize(fp)\n",
    "\n",
    "    return total_size*(0.000001)\n",
    "\n",
    "data_size = round(get_size())"
   ]
  },
  {
   "cell_type": "code",
   "execution_count": 27,
   "id": "6b8a19a2",
   "metadata": {
    "extensions": {
     "jupyter_dashboards": {
      "version": 1,
      "views": {
       "grid_default": {
        "col": 0,
        "height": 6,
        "hidden": false,
        "row": 23,
        "width": 5
       },
       "report_default": {
        "col": 0,
        "height": 4,
        "hidden": false,
        "row": 23,
        "width": 8
       }
      }
     }
    },
    "jupyter": {
     "outputs_hidden": true
    },
    "tags": []
   },
   "outputs": [
    {
     "data": {
      "text/plain": [
       "'Instagram has collected a total of 286 megabytes of data about you. There are 88 advertisers using your Instagram data.'"
      ]
     },
     "execution_count": 27,
     "metadata": {},
     "output_type": "execute_result"
    }
   ],
   "source": [
    "\"Instagram has collected a total of \" + str(data_size) + \" megabytes of data about you. There are \" + str(num_advertisers_using_data) + \" advertisers using your Instagram data.\""
   ]
  },
  {
   "cell_type": "code",
   "execution_count": null,
   "id": "00fa41a6-08e2-4e7d-8de6-1639549373fe",
   "metadata": {
    "extensions": {
     "jupyter_dashboards": {
      "version": 1,
      "views": {
       "grid_default": {
        "hidden": true
       },
       "report_default": {
        "hidden": true
       }
      }
     }
    },
    "jupyter": {
     "outputs_hidden": true
    }
   },
   "outputs": [],
   "source": []
  }
 ],
 "metadata": {
  "celltoolbar": "Edit Metadata",
  "extensions": {
   "jupyter_dashboards": {
    "activeView": "grid_default",
    "version": 1,
    "views": {
     "grid_default": {
      "cellMargin": 10,
      "defaultCellHeight": 20,
      "maxColumns": 12,
      "name": "grid",
      "type": "grid"
     },
     "report_default": {
      "name": "report",
      "type": "report"
     }
    }
   }
  },
  "kernelspec": {
   "display_name": "Python 3",
   "language": "python",
   "name": "python3"
  },
  "language_info": {
   "codemirror_mode": {
    "name": "ipython",
    "version": 3
   },
   "file_extension": ".py",
   "mimetype": "text/x-python",
   "name": "python",
   "nbconvert_exporter": "python",
   "pygments_lexer": "ipython3",
   "version": "3.8.8"
  }
 },
 "nbformat": 4,
 "nbformat_minor": 5
}
